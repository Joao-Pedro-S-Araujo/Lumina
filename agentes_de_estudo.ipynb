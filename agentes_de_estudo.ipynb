{
  "cells": [
    {
      "cell_type": "markdown",
      "metadata": {
        "id": "view-in-github",
        "colab_type": "text"
      },
      "source": [
        "<a href=\"https://colab.research.google.com/github/Joao-Pedro-S-Araujo/Lumina/blob/main/agentes_de_estudo.ipynb\" target=\"_parent\"><img src=\"https://colab.research.google.com/assets/colab-badge.svg\" alt=\"Open In Colab\"/></a>"
      ]
    },
    {
      "cell_type": "code",
      "execution_count": null,
      "metadata": {
        "id": "UCCbECexLk_h"
      },
      "outputs": [],
      "source": [
        "# %pip -q install google-genai"
      ]
    },
    {
      "cell_type": "code",
      "execution_count": null,
      "metadata": {
        "colab": {
          "base_uri": "https://localhost:8080/"
        },
        "id": "FRNRZuvdPXr-",
        "outputId": "5dcd0eaf-5213-45a6-a59f-650c175f0e83"
      },
      "outputs": [
        {
          "name": "stdout",
          "output_type": "stream",
          "text": [
            "\u001b[?25l   \u001b[90m━━━━━━━━━━━━━━━━━━━━━━━━━━━━━━━━━━━━━━━━\u001b[0m \u001b[32m0.0/1.2 MB\u001b[0m \u001b[31m?\u001b[0m eta \u001b[36m-:--:--\u001b[0m\r\u001b[2K   \u001b[91m━━━━━━━━━━━━━━\u001b[0m\u001b[90m╺\u001b[0m\u001b[90m━━━━━━━━━━━━━━━━━━━━━━━━━\u001b[0m \u001b[32m0.4/1.2 MB\u001b[0m \u001b[31m14.5 MB/s\u001b[0m eta \u001b[36m0:00:01\u001b[0m\r\u001b[2K   \u001b[91m━━━━━━━━━━━━━━━━━━━━━━━━━━━━━━━━━━━━━━━\u001b[0m\u001b[91m╸\u001b[0m \u001b[32m1.2/1.2 MB\u001b[0m \u001b[31m20.9 MB/s\u001b[0m eta \u001b[36m0:00:01\u001b[0m\r\u001b[2K   \u001b[90m━━━━━━━━━━━━━━━━━━━━━━━━━━━━━━━━━━━━━━━━\u001b[0m \u001b[32m1.2/1.2 MB\u001b[0m \u001b[31m15.7 MB/s\u001b[0m eta \u001b[36m0:00:00\u001b[0m\n",
            "\u001b[2K   \u001b[90m━━━━━━━━━━━━━━━━━━━━━━━━━━━━━━━━━━━━━━━━\u001b[0m \u001b[32m232.1/232.1 kB\u001b[0m \u001b[31m15.3 MB/s\u001b[0m eta \u001b[36m0:00:00\u001b[0m\n",
            "\u001b[2K   \u001b[90m━━━━━━━━━━━━━━━━━━━━━━━━━━━━━━━━━━━━━━━━\u001b[0m \u001b[32m95.2/95.2 kB\u001b[0m \u001b[31m7.1 MB/s\u001b[0m eta \u001b[36m0:00:00\u001b[0m\n",
            "\u001b[2K   \u001b[90m━━━━━━━━━━━━━━━━━━━━━━━━━━━━━━━━━━━━━━━━\u001b[0m \u001b[32m217.1/217.1 kB\u001b[0m \u001b[31m15.5 MB/s\u001b[0m eta \u001b[36m0:00:00\u001b[0m\n",
            "\u001b[2K   \u001b[90m━━━━━━━━━━━━━━━━━━━━━━━━━━━━━━━━━━━━━━━━\u001b[0m \u001b[32m334.1/334.1 kB\u001b[0m \u001b[31m20.4 MB/s\u001b[0m eta \u001b[36m0:00:00\u001b[0m\n",
            "\u001b[2K   \u001b[90m━━━━━━━━━━━━━━━━━━━━━━━━━━━━━━━━━━━━━━━━\u001b[0m \u001b[32m125.1/125.1 kB\u001b[0m \u001b[31m8.5 MB/s\u001b[0m eta \u001b[36m0:00:00\u001b[0m\n",
            "\u001b[2K   \u001b[90m━━━━━━━━━━━━━━━━━━━━━━━━━━━━━━━━━━━━━━━━\u001b[0m \u001b[32m65.8/65.8 kB\u001b[0m \u001b[31m4.9 MB/s\u001b[0m eta \u001b[36m0:00:00\u001b[0m\n",
            "\u001b[2K   \u001b[90m━━━━━━━━━━━━━━━━━━━━━━━━━━━━━━━━━━━━━━━━\u001b[0m \u001b[32m119.0/119.0 kB\u001b[0m \u001b[31m8.7 MB/s\u001b[0m eta \u001b[36m0:00:00\u001b[0m\n",
            "\u001b[2K   \u001b[90m━━━━━━━━━━━━━━━━━━━━━━━━━━━━━━━━━━━━━━━━\u001b[0m \u001b[32m194.9/194.9 kB\u001b[0m \u001b[31m11.4 MB/s\u001b[0m eta \u001b[36m0:00:00\u001b[0m\n",
            "\u001b[2K   \u001b[90m━━━━━━━━━━━━━━━━━━━━━━━━━━━━━━━━━━━━━━━━\u001b[0m \u001b[32m62.5/62.5 kB\u001b[0m \u001b[31m4.2 MB/s\u001b[0m eta \u001b[36m0:00:00\u001b[0m\n",
            "\u001b[2K   \u001b[90m━━━━━━━━━━━━━━━━━━━━━━━━━━━━━━━━━━━━━━━━\u001b[0m \u001b[32m103.3/103.3 kB\u001b[0m \u001b[31m7.0 MB/s\u001b[0m eta \u001b[36m0:00:00\u001b[0m\n",
            "\u001b[2K   \u001b[90m━━━━━━━━━━━━━━━━━━━━━━━━━━━━━━━━━━━━━━━━\u001b[0m \u001b[32m44.4/44.4 kB\u001b[0m \u001b[31m3.1 MB/s\u001b[0m eta \u001b[36m0:00:00\u001b[0m\n",
            "\u001b[2K   \u001b[90m━━━━━━━━━━━━━━━━━━━━━━━━━━━━━━━━━━━━━━━━\u001b[0m \u001b[32m72.0/72.0 kB\u001b[0m \u001b[31m5.0 MB/s\u001b[0m eta \u001b[36m0:00:00\u001b[0m\n",
            "\u001b[?25h"
          ]
        }
      ],
      "source": [
        "# Instalar Framework ADK de agentes do Google\n",
        "!pip -q install google-adk"
      ]
    },
    {
      "cell_type": "markdown",
      "metadata": {
        "id": "atcb7t6NzCcq"
      },
      "source": [
        "#Bloco com todas as bibliotecas."
      ]
    },
    {
      "cell_type": "code",
      "execution_count": null,
      "metadata": {
        "id": "_QeA1EkLza9b"
      },
      "outputs": [],
      "source": [
        "import os\n",
        "from google.colab import userdata\n",
        "from google import genai\n",
        "from IPython.display import HTML, Markdown\n",
        "from google.adk.agents import Agent\n",
        "from google.adk.runners import Runner\n",
        "from google.adk.sessions import InMemorySessionService\n",
        "from google.adk.tools import google_search\n",
        "from google.genai import types  # Para criar conteúdos (Content e Part)\n",
        "from datetime import date\n",
        "import textwrap # Para formatar melhor a saída de texto\n",
        "from IPython.display import display, Markdown # Para exibir texto formatado no Colab\n",
        "import requests # Para fazer requisições HTTP\n",
        "import warnings\n",
        "\n",
        "warnings.filterwarnings(\"ignore\")"
      ]
    },
    {
      "cell_type": "code",
      "execution_count": null,
      "metadata": {
        "id": "NfCqHo1tLk8P"
      },
      "outputs": [],
      "source": [
        "# Configura a API Key do Google Gemini\n",
        "os.environ[\"GOOGLE_API_KEY\"] = userdata.get('GOOGLE_API_KEY')\n",
        "\n",
        "# Configura o cliente da SDK do Gemini\n",
        "client = genai.Client()\n",
        "\n",
        "MODEL_ID = \"gemini-2.0-flash\""
      ]
    },
    {
      "cell_type": "markdown",
      "metadata": {
        "id": "NXmQCnMAkAGV"
      },
      "source": [
        "#o"
      ]
    },
    {
      "cell_type": "code",
      "execution_count": null,
      "metadata": {
        "id": "_xP4lWhsS5ko"
      },
      "outputs": [],
      "source": [
        "# Função auxiliar que envia uma mensagem para um agente via Runner e retorna a resposta final\n",
        "def call_agent(agent: Agent, message_text: str) -> str:\n",
        "    # Cria um serviço de sessão em memória\n",
        "    session_service = InMemorySessionService()\n",
        "    # Cria uma nova sessão (você pode personalizar os IDs conforme necessário)\n",
        "    session = session_service.create_session(app_name=agent.name, user_id=\"user1\", session_id=\"session1\")\n",
        "    # Cria um Runner para o agente\n",
        "    runner = Runner(agent=agent, app_name=agent.name, session_service=session_service)\n",
        "    # Cria o conteúdo da mensagem de entrada\n",
        "    content = types.Content(role=\"user\", parts=[types.Part(text=message_text)])\n",
        "\n",
        "    final_response = \"\"\n",
        "    # Itera assincronamente pelos eventos retornados durante a execução do agente\n",
        "    for event in runner.run(user_id=\"user1\", session_id=\"session1\", new_message=content):\n",
        "        if event.is_final_response():\n",
        "          for part in event.content.parts:\n",
        "            if part.text is not None:\n",
        "              final_response += part.text\n",
        "              final_response += \"\\n\"\n",
        "    return final_response"
      ]
    },
    {
      "cell_type": "code",
      "execution_count": null,
      "metadata": {
        "id": "8dosiodaxfFR"
      },
      "outputs": [],
      "source": [
        "# Função auxiliar para exibir texto formatado em Markdown no Colab\n",
        "def to_markdown(text):\n",
        "  text = text.replace('•', '  *')\n",
        "  return Markdown(textwrap.indent(text, '> ', predicate=lambda _: True))"
      ]
    },
    {
      "cell_type": "markdown",
      "metadata": {
        "id": "-I4YAbci0coj"
      },
      "source": [
        "#🤖Agente 01🤖"
      ]
    },
    {
      "cell_type": "code",
      "execution_count": null,
      "metadata": {
        "id": "o8bqIfi_DyH8"
      },
      "outputs": [],
      "source": [
        "\n",
        "def agente_buscador(topico, data_de_hoje):\n",
        "  buscador = Agent(\n",
        "      name=\"agente_buscador\",\n",
        "      model=\"gemini-2.0-flash\",\n",
        "      description=\"Agente que busca flashcards para ajudar pessoas a aumentarem o seu vocabulário em inglês.\",\n",
        "      tools=[google_search],\n",
        "      instruction=\"\"\"\n",
        "      Você é um agente especializado na criação de conteúdo educacional para aprendizado de inglês. Sua tarefa é gerar informações detalhadas para a criação de flashcards de palavras em inglês. Para cada palavra, você deve **obrigatoriamente** fornecer os seguintes elementos, formatados de forma clara e concisa para serem usados diretamente na criação de flashcards físicos ou digitais:\n",
        "\n",
        "      **Formato para cada palavra:**\n",
        "      Palavra em Inglês: [A palavra em inglês] Pronúncia: [A representação fonética da palavra - priorize IPA, se possível] Palavra em Português: [A tradução principal em português]\n",
        "      **Sua tarefa é gerar uma lista de exemplos de palavras em inglês, aplicando este formato rigorosamente.** Não liste aplicativos ou métodos de aprendizado que já utilizam flashcards. O foco é fornecer o conteúdo bruto necessário para a *criação* de flashcards.\n",
        "\n",
        "      **Exemplo de saída:**\n",
        "      Palavra em Inglês: |apple| Pronúncia: |ˈæpəl| Palavra em Português: |maçã|\n",
        "\n",
        "\n",
        "\n",
        "      Palavra em Inglês: |book| Pronúncia: |bʊk| Palavra em Português: |livro|\n",
        "\n",
        "\n",
        "\n",
        "      Palavra em Inglês: |run| Pronúncia: |rʌn| Palavra em Português: |correr|\n",
        "\n",
        "      \"\"\"\n",
        "  )\n",
        "  entrada_do_agente_buscador = f\"Tópico: {topico}\\nData de hoje: {data_de_hoje}\"\n",
        "  lancamentos = call_agent(buscador, entrada_do_agente_buscador)\n",
        "  return lancamentos"
      ]
    },
    {
      "cell_type": "markdown",
      "metadata": {
        "id": "eP9FFqmeFQD5"
      },
      "source": [
        "#🤖Agente 02🤖"
      ]
    },
    {
      "cell_type": "code",
      "execution_count": null,
      "metadata": {
        "id": "y3VO1uo5_ghO"
      },
      "outputs": [],
      "source": [
        "# Agente 02: Faz resumos de qualquer assunto.\n",
        "def agente_professor(assunto):\n",
        "    professor = Agent(\n",
        "        name=\"agente_resumo\",\n",
        "        model=\"gemini-2.0-flash\",\n",
        "        # Inserir as instruções do Agente Planejador\n",
        "        instruction=\"\"\"\n",
        "        Você é um agente especializado em resumir informações da internet e facilitar a compreensão de diversos tipos de conteúdo. Sua função é analisar páginas da web e fornecer resumos claros, concisos e fáceis de entender para o usuário.\n",
        "\n",
        " **Para cada solicitação, siga estas etapas:**\n",
        "\n",
        " 1.  **Navegue na página web fornecida pelo usuário.** Se o usuário não fornecer uma página web específica, use ferramentas de busca para encontrar as fontes mais relevantes para a solicitação.\n",
        " 2.  **Identifique o tipo de conteúdo da página:**\n",
        "     * Artigo de notícias\n",
        "     * Artigo científico\n",
        "     * Postagem de blog\n",
        "     * Página de produto\n",
        "     * Outro (especifique)\n",
        " 3.  **Extraia as informações mais importantes da página, focando nos seguintes pontos:**\n",
        "     * Ideia principal do texto\n",
        "     * Argumentos ou evidências que sustentam a ideia principal\n",
        "     * Conclusões ou resultados (se aplicável)\n",
        "     * Quaisquer pontos de dados ou estatísticas relevantes\n",
        "     * Informações contextuais importantes\n",
        " 4.  **Gere um resumo conciso e claro, usando linguagem simples e direta.** Evite jargões técnicos ou linguagem complexa, a menos que seja essencial para o entendimento do conteúdo.\n",
        " 5.  **Formate o resumo de forma organizada e fácil de ler.** Use parágrafos curtos, marcadores ou listas numeradas para destacar os pontos principais.\n",
        " 6.  **Se necessário, inclua um breve glossário de termos técnicos ou explicações adicionais para facilitar a compreensão.**\n",
        " 7.  **Adapte o resumo ao nível de conhecimento do usuário, se possível.** Se o usuário fornecer informações sobre seu nível de conhecimento sobre o assunto, use uma linguagem apropriada.\n",
        " 8.  **Forneça o resumo ao usuário.**\n",
        "\n",
        " **Exemplo de saída:**\n",
        "\n",
        " **Tipo de conteúdo:** Artigo de notícias\n",
        "\n",
        " **Título:** Nova vacina mostra-se promissora contra a gripe\n",
        "\n",
        " **Resumo:**\n",
        "\n",
        " * Uma nova vacina experimental contra a gripe mostrou resultados promissores em testes iniciais.\n",
        " * A vacina parece ser eficaz contra diversas cepas do vírus, incluindo algumas que são resistentes às vacinas atuais.\n",
        " * Os testes clínicos em larga escala estão planejados para o próximo ano.\n",
        " * Os pesquisadores estão otimistas de que a vacina possa levar a uma proteção mais ampla e duradoura contra a gripe.\n",
        "\n",
        " **Glossário:**\n",
        "\n",
        " * **Cepa:** Uma variante específica de um vírus.\n",
        "\n",
        " **Lembre-se:** Seu objetivo é tornar a informação acessível e compreensível para o usuário. Seja claro, conciso e organizado em seus resumos.\n",
        "        \"\"\",\n",
        "        description=\"Agente professor\",\n",
        "        tools=[google_search],\n",
        "\n",
        "    )\n",
        "\n",
        "    entrada_do_agente_de_resumo = assunto\n",
        "    # Executa o agente\n",
        "    resumo = call_agent(professor, entrada_do_agente_de_resumo)\n",
        "    return resumo"
      ]
    },
    {
      "cell_type": "markdown",
      "metadata": {
        "id": "74G8UBpHZwii"
      },
      "source": [
        "#🤖Agente 03🤖"
      ]
    },
    {
      "cell_type": "code",
      "execution_count": null,
      "metadata": {
        "id": "uOqlg2TRLVh1"
      },
      "outputs": [],
      "source": [
        "\n",
        "# Agente 03: faz plano de estudos:\n",
        "def agente_estudo(assunto):\n",
        "    roteiro = Agent(\n",
        "        name=\"agente_estudo\",\n",
        "        model=\"gemini-2.0-flash\",\n",
        "        tools=[google_search],\n",
        "        instruction=\"\"\"\n",
        "Você é um agente especializado em criar roteiros de estudo práticos e diretos. Sua função é fornecer uma estrutura inicial para o aprendizado de qualquer assunto, com base em algumas informações essenciais fornecidas pelo usuário.\n",
        "\n",
        "**Para criar um roteiro de estudo inicial rapidamente, você precisa que o usuário forneça as seguintes informações:**\n",
        "\n",
        "1.  **Assunto de Estudo:** Qual o tema principal que você deseja estudar?\n",
        "2.  **Objetivo Principal:** Qual o resultado que você espera alcançar ao estudar esse assunto (ex: entender os fundamentos, preparar-se para um exame, aprender a aplicar um conceito, etc.)?\n",
        "3.  **Tempo Disponível:** Quantas horas por semana você pode dedicar a este estudo?\n",
        "4.  **Nível de Conhecimento:** Qual seu nível atual sobre o assunto (iniciante, básico, intermediário, avançado)?\n",
        "\n",
        "**Com base nessas informações, você deverá gerar um roteiro de estudo inicial e direto, contendo os seguintes elementos:**\n",
        "\n",
        "* **Divisão em Tópicos:** Uma sugestão de como o assunto pode ser dividido em blocos de estudo lógicos. Comece com o básico e avance para o mais complexo, considerando o nível de conhecimento do usuário.\n",
        "* **Sugestão de Recursos:** Indique tipos de materiais de estudo adequados para cada tópico (ex: leitura de capítulos de livros, visualização de vídeos introdutórios, busca por artigos específicos, prática de exercícios).\n",
        "* **Alocação de Tempo:** Uma estimativa de quanto tempo dedicar a cada tópico, considerando o tempo disponível total do usuário e a complexidade dos temas.\n",
        "* **Sugestão de Revisão:** Inclua a importância de revisar o material periodicamente.\n",
        "\n",
        "**Formato de Saída:**\n",
        "\n",
        "Roteiro de Estudos Inicial: [Assunto de Estudo]\n",
        "\n",
        "Objetivo: [Objetivo Principal do Usuário]\n",
        "\n",
        "Tempo Semanal Dedicado: [Tempo Disponível do Usuário]\n",
        "\n",
        "Nível de Conhecimento: [Nível de Conhecimento do Usuário]\n",
        "\n",
        "Estrutura Sugerida:\n",
        "\n",
        "Semana/Período 1:\n",
        "\n",
        "Tópico 1: [Nome do Tópico Inicial]\n",
        "Foco: [Breve descrição do que aprender]\n",
        "Recursos Sugeridos: [Tipos de materiais]\n",
        "Tempo Estimado: [Número de horas]\n",
        "Semana/Período 2:\n",
        "\n",
        "Tópico 2: [Próximo Tópico]\n",
        "Foco: [...]\n",
        "Recursos Sugeridos: [...]\n",
        "Tempo Estimado: [...]\n",
        "[Continue para as semanas/períodos seguintes, dividindo o assunto em blocos lógicos]\n",
        "\n",
        "Revisão: Recomenda-se revisar os tópicos aprendidos ao final de cada semana/período.\n",
        "\n",
        "Observação: Este é um roteiro inicial. Ajuste os tópicos, recursos e tempo de acordo com sua necessidade e progresso.\n",
        "\n",
        "\n",
        "**Exemplo de interação:**\n",
        "\n",
        "**Usuário:** Quero estudar programação Python. Meu objetivo é entender o básico para começar a criar pequenos projetos. Tenho umas 5 horas por semana e sou iniciante.\n",
        "\n",
        "**Agente (usando o prompt):**\n",
        "\n",
        "Roteiro de Estudos Inicial: Programação Python\n",
        "\n",
        "Objetivo: Entender o básico para começar a criar pequenos projetos.\n",
        "\n",
        "Tempo Semanal Dedicado: 5 horas.\n",
        "\n",
        "Nível de Conhecimento: Iniciante.\n",
        "\n",
        "Estrutura Sugerida:\n",
        "\n",
        "Semana 1:\n",
        "\n",
        "Tópico 1: Introdução ao Python e Configuração do Ambiente.\n",
        "Foco: O que é Python, por que usar, instalação do Python e de um editor de código.\n",
        "Recursos Sugeridos: Tutoriais online para iniciantes (ex: vídeos no YouTube, documentação oficial), artigos introdutórios.\n",
        "Tempo Estimado: 2 horas.\n",
        "Semana 2:\n",
        "\n",
        "Tópico 2: Tipos de Dados Fundamentais e Operadores.\n",
        "Foco: Números inteiros, decimais, strings, booleanos e como realizar operações básicas com eles.\n",
        "Recursos Sugeridos: Seções introdutórias de cursos online, capítulos de livros iniciantes.\n",
        "Tempo Estimado: 2 horas.\n",
        "Semana 3:\n",
        "\n",
        "Tópico 3: Estruturas de Controle: Condicionais (if/else).\n",
        "Foco: Como o programa toma decisões com base em condições.\n",
        "Recursos Sugeridos: Exemplos práticos em cursos online, exercícios simples.\n",
        "Tempo Estimado: 1 hora.\n",
        "Semana 4:\n",
        "\n",
        "Revisão: Revisar os conceitos e exemplos das semanas 1 a 3. Tentar criar pequenos programas simples utilizando o que aprendeu.\n",
        "Próximos Passos (Semanas Seguintes): Estruturas de Repetição (for/while), Listas, Funções.\n",
        "\n",
        "Observação: Este é um roteiro inicial. Ajuste os tópicos, recursos e tempo de acordo com sua necessidade e progresso.\n",
        "            \"\"\",\n",
        "        description=\"Super agente de estudo que cria roteiros personalizados para você.\",\n",
        "    )\n",
        "    entrada_do_agente_de_estudo = assunto\n",
        "    # Executa o agente\n",
        "    agente = call_agent(roteiro, entrada_do_agente_de_estudo)\n",
        "    return agente"
      ]
    },
    {
      "cell_type": "markdown",
      "metadata": {
        "id": "T51IUJPTojmv"
      },
      "source": [
        "#🤖Agente 04🤖"
      ]
    },
    {
      "cell_type": "code",
      "execution_count": null,
      "metadata": {
        "id": "_aTb1SdkLeT6"
      },
      "outputs": [],
      "source": [
        "# Agente Especialista em ensinar Lógica de Programação (com python)\n",
        "def agente_python(assunto):\n",
        "    python_age = Agent(\n",
        "        name=\"agente_python\",\n",
        "        model=\"gemini-2.0-flash\",\n",
        "        tools=[google_search],\n",
        "        instruction=\"\"\"\n",
        "Você é um agente especializado na tutoria de lógica de programação utilizando a linguagem Python. Seu objetivo principal é ajudar usuários a desenvolverem um forte raciocínio lógico para resolver problemas de programação em Python, fornecendo exercícios práticos e feedback detalhado sobre suas soluções.\n",
        "\n",
        "**Para interagir efetivamente com o usuário, siga estas diretrizes:**\n",
        "\n",
        "1.  **Avalie o Nível Inicial:** Comece perguntando sobre a experiência do usuário com lógica de programação e Python. Questione se ele é iniciante, possui conhecimentos básicos (variáveis, condicionais, loops), ou já tem experiência com a linguagem.\n",
        "\n",
        "2.  **Forneça Exercícios Personalizados:** Com base no nível do usuário, apresente um problema de lógica de programação que deva ser resolvido em Python. Comece com exercícios simples para iniciantes e avance gradualmente para desafios mais complexos.\n",
        "\n",
        "    * **Exemplo para Iniciantes:** \"Escreva um código Python que peça um número ao usuário e imprima se ele é positivo, negativo ou zero.\"\n",
        "    * **Exemplo para Nível Básico:** \"Escreva uma função Python que receba uma lista de números e retorne o maior deles.\"\n",
        "    * **Exemplo para Nível Intermediário:** \"Escreva um programa Python que implemente o jogo 'Pedra, Papel e Tesoura' contra o computador.\"\n",
        "    * **Exemplo para Nível Avançado:** \"Implemente em Python o algoritmo de ordenação Merge Sort.\"\n",
        "\n",
        "3.  **Solicite a Solução do Usuário:** Peça ao usuário para fornecer o código Python que ele desenvolveu para resolver o exercício.\n",
        "\n",
        "4.  **Corrija o Código:** Analise o código do usuário com atenção, verificando:\n",
        "    * **Correção da Lógica:** O código resolve o problema proposto corretamente?\n",
        "    * **Sintaxe Python:** O código segue as regras da linguagem Python?\n",
        "    * **Eficiência (Opcional):** O código é eficiente em termos de tempo e recursos (para níveis mais avançados)?\n",
        "    * **Legibilidade:** O código é fácil de entender (uso de nomes de variáveis significativos, indentação adequada, comentários)?\n",
        "\n",
        "5.  **Forneça Feedback Detalhado:**\n",
        "\n",
        "    * **Em caso de código correto:** Elogie a solução e, se possível, sugira melhorias em termos de estilo, eficiência ou abordagens alternativas.\n",
        "    * **Em caso de erros:**\n",
        "        * Indique claramente os erros encontrados (lógicos ou de sintaxe).\n",
        "        * Explique a causa do erro de forma clara e concisa.\n",
        "        * Sugira como corrigir o erro, fornecendo exemplos ou apontando para conceitos relevantes da linguagem Python.\n",
        "        * Incentive o usuário a tentar novamente após a correção.\n",
        "\n",
        "6.  **Ofereça Dicas Extras:** Além da correção, forneça dicas e conceitos relacionados ao exercício, visando expandir o conhecimento do usuário em lógica de programação e Python. Isso pode incluir:\n",
        "    * Explicação de conceitos importantes (ex: escopo de variáveis, estruturas de dados).\n",
        "    * Sugestão de funções ou bibliotecas Python úteis.\n",
        "    * Boas práticas de programação em Python.\n",
        "    * Desafios adicionais para praticar o conceito aprendido.\n",
        "\n",
        "7.  **Adapte a Dificuldade:** Ajuste a complexidade dos exercícios subsequentes com base no progresso do usuário. Se ele estiver tendo dificuldades, ofereça exercícios mais simples para solidificar os fundamentos. Se estiver avançando rapidamente, apresente desafios maiores.\n",
        "\n",
        "**Exemplo de interação (após o usuário fornecer o código):**\n",
        "\n",
        "**Agente:** \"Excelente tentativa! Seu código tem a ideia central correta para verificar se o número é positivo ou negativo. No entanto, note que a condição para verificar se o número é zero (`elif numero = 0:`) está usando uma atribuição (`=`) em vez de uma comparação (`==`). Em Python, `=` é usado para atribuir um valor a uma variável, enquanto `==` é usado para verificar se dois valores são iguais. Faça essa pequena correção e tente rodar o código novamente. Além disso, parabéns por usar a estrutura `if-elif-else` corretamente para lidar com as três possibilidades!\"\n",
        "\n",
        "Seu objetivo final é ser um guia paciente e eficaz, ajudando o usuário a construir uma base sólida em lógica de programação com Python através da prática e do feedback construtivo.\n",
        "            \"\"\",\n",
        "        description=\"Agente que te dá dicas de Python.\"\n",
        "    )\n",
        "    entrada_do_agente_python = assunto\n",
        "    # Executa o agente\n",
        "    agente = call_agent(python_age, entrada_do_agente_python)\n",
        "    return agente"
      ]
    },
    {
      "cell_type": "markdown",
      "metadata": {
        "id": "HlYoD2X2XVmA"
      },
      "source": [
        "#🧠Agente que cria FlashCard para você aprender Inglês:🧠\n",
        "Perfeito para quem utiliza o anki para aprender Inglês"
      ]
    },
    {
      "cell_type": "code",
      "execution_count": null,
      "metadata": {
        "colab": {
          "base_uri": "https://localhost:8080/",
          "height": 704
        },
        "id": "630ummxz4myx",
        "outputId": "bb5e0b15-5636-416c-f335-a4eb1e3fcc6c"
      },
      "outputs": [
        {
          "name": "stdout",
          "output_type": "stream",
          "text": [
            "🚀 Iniciando o Sistema de Criação de Flash Cards em Inglês🚀\n",
            "Gerando seus Flashcards\n",
            "\n",
            "--- Resultado do agente 1 (flashcard) ---\n",
            "\n"
          ]
        },
        {
          "data": {
            "text/markdown": "> 🟢 Ok, aqui está uma lista de exemplos de palavras em inglês formatadas para flashcards, criada em 17 de maio de 2025:\n> \n> \n> Palavra em Inglês: |hello| Pronúncia: |həˈloʊ| Palavra em Português: |olá|\n> \n> Palavra em Inglês: |dog| Pronúncia: |dɔːɡ| Palavra em Português: |cachorro|\n> \n> Palavra em Inglês: |cat| Pronúncia: |kæt| Palavra em Português: |gato|\n> \n> Palavra em Inglês: |house| Pronúncia: |haʊs| Palavra em Português: |casa|\n> \n> Palavra em Inglês: |car| Pronúncia: |kɑːr| Palavra em Português: |carro|\n> \n> Palavra em Inglês: |tree| Pronúncia: |triː| Palavra em Português: |árvore|\n> \n> Palavra em Inglês: |sun| Pronúncia: |sʌn| Palavra em Português: |sol|\n> \n> Palavra em Inglês: |moon| Pronúncia: |muːn| Palavra em Português: |lua|\n> \n> Palavra em Inglês: |water| Pronúncia: |ˈwɔːtər| Palavra em Português: |água|\n> \n> Palavra em Inglês: |fire| Pronúncia: |ˈfaɪər| Palavra em Português: |fogo|\n> \n> Palavra em Inglês: |food| Pronúncia: |fuːd| Palavra em Português: |comida|\n> \n> Palavra em Inglês: |friend| Pronúncia: |frɛnd| Palavra em Português: |amigo|\n> \n> Palavra em Inglês: |family| Pronúncia: |ˈfæməli| Palavra em Português: |família|\n> \n> Palavra em Inglês: |happy| Pronúncia: |ˈhapi| Palavra em Português: |feliz|\n> \n> Palavra em Inglês: |sad| Pronúncia: |sæd| Palavra em Português: |triste|\n> \n> Palavra em Inglês: |big| Pronúncia: |bɪɡ| Palavra em Português: |grande|\n> \n> Palavra em Inglês: |small| Pronúncia: |smɔːl| Palavra em Português: |pequeno|\n> \n> Palavra em Inglês: |good| Pronúncia: |ɡʊd| Palavra em Português: |bom|\n> \n> Palavra em Inglês: |bad| Pronúncia: |bæd| Palavra em Português: |mau|\n> \n> Palavra em Inglês: |yes| Pronúncia: |jɛs| Palavra em Português: |sim|\n> \n> Palavra em Inglês: |no| Pronúncia: |noʊ| Palavra em Português: |não|\n> \n> Palavra em Inglês: |hot| Pronúncia: |hɒt| Palavra em Português: |quente|\n> \n> Palavra em Inglês: |cold| Pronúncia: |koʊld| Palavra em Português: |frio|\n> \n",
            "text/plain": [
              "<IPython.core.display.Markdown object>"
            ]
          },
          "metadata": {},
          "output_type": "display_data"
        },
        {
          "name": "stdout",
          "output_type": "stream",
          "text": [
            "----------------------------------------\n"
          ]
        }
      ],
      "source": [
        "data_de_hoje = date.today().strftime(\"%d/%m/%Y\")\n",
        "\n",
        "print(\"🚀 Iniciando o Sistema de Criação de Flash Cards em Inglês🚀\")\n",
        "\n",
        "# --- Obter o Tópico do Usuário ---\n",
        "gerar_flashcard = \"Crie Flashcards formatados\"\n",
        "\n",
        "print(f'Gerando seus Flashcards')\n",
        "pesquisa = agente_buscador(gerar_flashcard, data_de_hoje)\n",
        "print(\"\\n--- Resultado do agente 1 (flashcard) ---\\n\")\n",
        "display(to_markdown(f\"🟢 {pesquisa}\"))\n",
        "print(\"----------------------------------------\")"
      ]
    },
    {
      "cell_type": "markdown",
      "metadata": {
        "id": "VM4QuXngTIfP"
      },
      "source": [
        "#🗒️Agente que cria Qualquer Resumo para você🗒️"
      ]
    },
    {
      "cell_type": "code",
      "execution_count": null,
      "metadata": {
        "colab": {
          "background_save": true,
          "base_uri": "https://localhost:8080/",
          "height": 503
        },
        "id": "UaY2N83HKnj0",
        "outputId": "c564e1f0-50d8-4f03-f0cd-c4e04d0a736e"
      },
      "outputs": [
        {
          "name": "stdout",
          "output_type": "stream",
          "text": [
            "😀Olá sou seu agente Pessoal, me diga quais assunto você tem interesse em receber um resumão ?😀\n",
            "\n",
            "\n",
            "\n",
            "\n",
            "--- ⚡resultado do agente de resumos⚡ ---\n",
            "\n"
          ]
        },
        {
          "data": {
            "text/markdown": "> 🤖: Com prazer! Para criar um resumo preciso da Lei número 1 do livro \"A Lei do Triunfo\", preciso primeiro entender qual é essa lei específica. Poderia, por favor, me informar qual é a Lei número 1 conforme apresentada no livro? Se você não tiver essa informação, posso pesquisar na internet para encontrar a resposta e, em seguida, fornecer um resumo detalhado.\n> \n> De acordo com as fontes, a Lei número 1 do livro \"A Lei do Triunfo\" de Napoleon Hill é o conceito de \"Master Mind\".\n> \n> **Resumo da Lei do Master Mind:**\n> \n> *   **O que é:** A Lei do Master Mind define que, para alcançar objetivos grandiosos, é essencial associar-se a outras pessoas que compartilham da mesma linha de pensamento. A união de duas ou mais mentes cria uma força maior do que a soma de suas partes individuais.\n> *   **Interdependência:** Reconhece a importância da colaboração e do apoio mútuo.\n> *   **Harmonia:** Enfatiza a importância de trabalhar em rapport (empatia) com seus sócios, buscando pessoas que seguem uma mesma linha de pensamento.\n> *   **Benefícios:** A união de mentes gera um \"todo\" maior do que a soma das partes, potencializando o sucesso que individualmente não seria possível.\n> \n> Em essência, a Lei do Master Mind ensina que o sucesso raramente é alcançado sozinho e que a colaboração estratégica com outras pessoas é fundamental para atingir objetivos maiores.\n> \n",
            "text/plain": [
              "<IPython.core.display.Markdown object>"
            ]
          },
          "metadata": {},
          "output_type": "display_data"
        },
        {
          "name": "stdout",
          "output_type": "stream",
          "text": [
            "\n",
            " digite 'sair' para se despedir👋\n",
            "----------------------------------------\n"
          ]
        }
      ],
      "source": [
        "print(\"😀Olá sou seu agente Pessoal, me diga quais assunto você tem interesse em receber um resumão ?😀\")\n",
        "print(\"\\n\\n\")\n",
        "entrada = input('Você: ')\n",
        "while entrada != 'sair':\n",
        "\n",
        "  resposta = agente_professor(entrada)\n",
        "  print(\"\\n--- ⚡resultado do agente de resumos⚡ ---\\n\")\n",
        "  display(to_markdown(f\"🤖: {resposta}\"))\n",
        "  print(\"\\n digite 'sair' para se despedir👋\")\n",
        "  print(\"----------------------------------------\")\n",
        "  entrada = input('Você: ')"
      ]
    },
    {
      "cell_type": "markdown",
      "metadata": {
        "id": "hBfGpPABh-CF"
      },
      "source": [
        "#📚Agente que cria Roteiro de Estudos para você📚"
      ]
    },
    {
      "cell_type": "code",
      "execution_count": null,
      "metadata": {
        "colab": {
          "base_uri": "https://localhost:8080/",
          "height": 986
        },
        "id": "e9c0MRc0YYTq",
        "outputId": "a25070a8-e34a-4f42-93a0-e669d6d5be34"
      },
      "outputs": [
        {
          "name": "stdout",
          "output_type": "stream",
          "text": [
            "😀Olá sou seu agente Pessoal, me diga quais assunto você tem interesse em receber um roteiro de estudos ?😀\n",
            "\n",
            "\n",
            "\n",
            "Você: oi\n",
            "\n",
            "--- 📚resultado do agente de estudo📚 ---\n",
            "\n"
          ]
        },
        {
          "data": {
            "text/markdown": "> 🤖: Olá! Em que posso te ajudar hoje? Você gostaria de criar um roteiro de estudos? Se sim, por favor, me forneça as seguintes informações:\n> \n> 1.  **Assunto de Estudo:** Qual o tema principal que você deseja estudar?\n> 2.  **Objetivo Principal:** Qual o resultado que você espera alcançar ao estudar esse assunto (ex: entender os fundamentos, preparar-se para um exame, aprender a aplicar um conceito, etc.)?\n> 3.  **Tempo Disponível:** Quantas horas por semana você pode dedicar a este estudo?\n> 4.  **Nível de Conhecimento:** Qual seu nível atual sobre o assunto (iniciante, básico, intermediário, avançado)?\n> \n",
            "text/plain": [
              "<IPython.core.display.Markdown object>"
            ]
          },
          "metadata": {},
          "output_type": "display_data"
        },
        {
          "name": "stdout",
          "output_type": "stream",
          "text": [
            "\n",
            " digite 'sair' para se despedir👋\n",
            "----------------------------------------\n",
            "Você: redes, entender os fundamentos, 4 horas, iniciante\n",
            "\n",
            "--- 📚resultado do agente de estudo📚 ---\n",
            "\n"
          ]
        },
        {
          "data": {
            "text/markdown": "> 🤖: Roteiro de Estudos Inicial: Redes de Computadores\n> \n> Objetivo: Entender os fundamentos de redes.\n> \n> Tempo Semanal Dedicado: 4 horas.\n> \n> Nível de Conhecimento: Iniciante.\n> \n> Estrutura Sugerida:\n> \n> Semana 1:\n> \n> Tópico 1: Introdução a Redes de Computadores.\n> Foco: O que são redes, por que são importantes, tipos de redes (LAN, WAN, etc.), componentes básicos (servidores, clientes, roteadores, switches).\n> Recursos Sugeridos: Artigos introdutórios online, vídeos explicativos no YouTube, capítulos iniciais de livros sobre redes.\n> Tempo Estimado: 2 horas.\n> Semana 2:\n> \n> Tópico 2: Modelo OSI e Modelo TCP/IP.\n> Foco: Compreender a estrutura em camadas das redes, as funções de cada camada e como os dados são transmitidos entre elas.\n> Recursos Sugeridos: Diagramas explicativos, descrições detalhadas das camadas em livros e artigos.\n> Tempo Estimado: 2 horas.\n> Semana 3:\n> \n> Tópico 3: Endereçamento IP e Protocolo IP.\n> Foco: Como os dispositivos são identificados em uma rede, o que são endereços IPv4 e IPv6, como funciona o protocolo IP para roteamento de dados.\n> Recursos Sugeridos: Tutoriais sobre endereçamento IP, vídeos demonstrativos de configuração de redes.\n> Tempo Estimado: 2 horas.\n> Semana 4:\n> \n> Tópico 4: Protocolos de Transporte: TCP e UDP.\n> Foco: As diferenças entre TCP (conexão confiável) e UDP (conexão não confiável), quando usar cada um e como eles funcionam.\n> Recursos Sugeridos: Explicações comparativas entre TCP e UDP, exemplos de aplicações que usam cada protocolo.\n> Tempo Estimado: 2 horas.\n> Semanas 5 e 6:\n> \n> Tópico 5: Meios de Transmissão e Topologias de Rede.\n> Foco: Tipos de cabos (par trançado, fibra óptica), tecnologias sem fio (Wi-Fi), como os dispositivos são organizados em uma rede (estrela, anel, etc.).\n> Recursos Sugeridos: Artigos sobre diferentes tipos de cabos e suas características, diagramas de topologias de rede.\n> Tempo Estimado: 4 horas (2 horas por semana).\n> Revisão: Recomenda-se revisar os tópicos aprendidos ao final de cada semana/período.\n> \n> Observação: Este é um roteiro inicial. Ajuste os tópicos, recursos e tempo de acordo com sua necessidade e progresso.\n",
            "text/plain": [
              "<IPython.core.display.Markdown object>"
            ]
          },
          "metadata": {},
          "output_type": "display_data"
        },
        {
          "name": "stdout",
          "output_type": "stream",
          "text": [
            "\n",
            " digite 'sair' para se despedir👋\n",
            "----------------------------------------\n",
            "Você: sair\n"
          ]
        }
      ],
      "source": [
        "print(\"😀Olá sou seu agente Pessoal, me diga quais assunto você tem interesse em receber um roteiro de estudos ?😀\")\n",
        "print(\"\\n\\n\")\n",
        "entrada = input('Você: ')\n",
        "while entrada != 'sair':\n",
        "\n",
        "  resposta = agente_estudo(entrada)\n",
        "  print(\"\\n--- 📚resultado do agente de estudo📚 ---\\n\")\n",
        "  display(to_markdown(f\"🤖: {resposta}\"))\n",
        "  print(\"\\n digite 'sair' para se despedir👋\")\n",
        "  print(\"----------------------------------------\")\n",
        "  entrada = input('Você: ')"
      ]
    },
    {
      "cell_type": "markdown",
      "metadata": {
        "id": "CJOBUpogpi0o"
      },
      "source": [
        "#♟️Agente Especialista em Lógica de Programação (Pythom)🐍"
      ]
    },
    {
      "cell_type": "code",
      "execution_count": null,
      "metadata": {
        "id": "4LncIYyAnvUf"
      },
      "outputs": [],
      "source": [
        "print(\"🤖Olá sou seu agente Pessoal, de Lógica de Programação Python ?🤖\")\n",
        "print(\"\\n\\n\")\n",
        "entrada = input('Você: ')\n",
        "while entrada != 'sair':\n",
        "\n",
        "  resposta = agente_python(entrada)\n",
        "  print(\"\\n--- ⚡resultado do agente de lógica⚡ ---\\n\")\n",
        "  display(to_markdown(f\"🟢  {resposta}\"))\n",
        "  print(\"\\n digite 'sair' para se despedir👋\")\n",
        "  print(\"----------------------------------------\")\n",
        "  entrada = input('Você: ')"
      ]
    }
  ],
  "metadata": {
    "colab": {
      "provenance": [],
      "toc_visible": true,
      "include_colab_link": true
    },
    "kernelspec": {
      "display_name": "Python 3",
      "name": "python3"
    },
    "language_info": {
      "name": "python"
    }
  },
  "nbformat": 4,
  "nbformat_minor": 0
}